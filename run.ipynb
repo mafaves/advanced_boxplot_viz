{
 "cells": [
  {
   "cell_type": "code",
   "execution_count": 3,
   "id": "60323d41",
   "metadata": {},
   "outputs": [],
   "source": [
    "import pandas as pd\n",
    "import numpy as np\n",
    "from advanced_boxplot_viz import *"
   ]
  },
  {
   "cell_type": "code",
   "execution_count": 5,
   "id": "2662a6f7",
   "metadata": {},
   "outputs": [
    {
     "data": {
      "text/html": [
       "<div>\n",
       "<style scoped>\n",
       "    .dataframe tbody tr th:only-of-type {\n",
       "        vertical-align: middle;\n",
       "    }\n",
       "\n",
       "    .dataframe tbody tr th {\n",
       "        vertical-align: top;\n",
       "    }\n",
       "\n",
       "    .dataframe thead th {\n",
       "        text-align: right;\n",
       "    }\n",
       "</style>\n",
       "<table border=\"1\" class=\"dataframe\">\n",
       "  <thead>\n",
       "    <tr style=\"text-align: right;\">\n",
       "      <th></th>\n",
       "      <th>Biomarker_1</th>\n",
       "      <th>Biomarker_2</th>\n",
       "      <th>Biomarker_3</th>\n",
       "      <th>Biomarker_4</th>\n",
       "      <th>nAD</th>\n",
       "    </tr>\n",
       "  </thead>\n",
       "  <tbody>\n",
       "    <tr>\n",
       "      <th>0</th>\n",
       "      <td>279.269191</td>\n",
       "      <td>120.061810</td>\n",
       "      <td>36.432768</td>\n",
       "      <td>28.216695</td>\n",
       "      <td>1</td>\n",
       "    </tr>\n",
       "    <tr>\n",
       "      <th>1</th>\n",
       "      <td>324.467052</td>\n",
       "      <td>113.806342</td>\n",
       "      <td>70.486979</td>\n",
       "      <td>32.240676</td>\n",
       "      <td>1</td>\n",
       "    </tr>\n",
       "    <tr>\n",
       "      <th>2</th>\n",
       "      <td>314.455824</td>\n",
       "      <td>85.762139</td>\n",
       "      <td>76.619099</td>\n",
       "      <td>34.269612</td>\n",
       "      <td>1</td>\n",
       "    </tr>\n",
       "    <tr>\n",
       "      <th>3</th>\n",
       "      <td>171.206232</td>\n",
       "      <td>119.545572</td>\n",
       "      <td>44.982481</td>\n",
       "      <td>32.552549</td>\n",
       "      <td>0</td>\n",
       "    </tr>\n",
       "    <tr>\n",
       "      <th>4</th>\n",
       "      <td>140.859120</td>\n",
       "      <td>106.497070</td>\n",
       "      <td>31.995554</td>\n",
       "      <td>24.818579</td>\n",
       "      <td>0</td>\n",
       "    </tr>\n",
       "  </tbody>\n",
       "</table>\n",
       "</div>"
      ],
      "text/plain": [
       "   Biomarker_1  Biomarker_2  Biomarker_3  Biomarker_4  nAD\n",
       "0   279.269191   120.061810    36.432768    28.216695    1\n",
       "1   324.467052   113.806342    70.486979    32.240676    1\n",
       "2   314.455824    85.762139    76.619099    34.269612    1\n",
       "3   171.206232   119.545572    44.982481    32.552549    0\n",
       "4   140.859120   106.497070    31.995554    24.818579    0"
      ]
     },
     "execution_count": 5,
     "metadata": {},
     "output_type": "execute_result"
    }
   ],
   "source": [
    "# Leer el archivo CSV\n",
    "df = pd.read_csv('./example/example_data.csv') #, delimiter=';', decimal=','\n",
    "df.head()"
   ]
  },
  {
   "cell_type": "code",
   "execution_count": 7,
   "id": "4405fa8f",
   "metadata": {},
   "outputs": [
    {
     "ename": "AttributeError",
     "evalue": "module 'advanced_boxplot_viz.utils' has no attribute 'check_normality'",
     "output_type": "error",
     "traceback": [
      "\u001b[1;31m---------------------------------------------------------------------------\u001b[0m",
      "\u001b[1;31mAttributeError\u001b[0m                            Traceback (most recent call last)",
      "Cell \u001b[1;32mIn[7], line 4\u001b[0m\n\u001b[0;32m      2\u001b[0m biomarker_list \u001b[38;5;241m=\u001b[39m [\u001b[38;5;124m\"\u001b[39m\u001b[38;5;124mBiomarker_1\u001b[39m\u001b[38;5;124m\"\u001b[39m, \u001b[38;5;124m\"\u001b[39m\u001b[38;5;124mBiomarker_2\u001b[39m\u001b[38;5;124m\"\u001b[39m, \u001b[38;5;124m\"\u001b[39m\u001b[38;5;124mBiomarker_3\u001b[39m\u001b[38;5;124m\"\u001b[39m, \u001b[38;5;124m\"\u001b[39m\u001b[38;5;124mBiomarker_4\u001b[39m\u001b[38;5;124m\"\u001b[39m]\n\u001b[0;32m      3\u001b[0m correction_method \u001b[38;5;241m=\u001b[39m \u001b[38;5;124m\"\u001b[39m\u001b[38;5;124mfdr_bh\u001b[39m\u001b[38;5;124m\"\u001b[39m\n\u001b[1;32m----> 4\u001b[0m resultados_levene \u001b[38;5;241m=\u001b[39m \u001b[43mutils\u001b[49m\u001b[38;5;241;43m.\u001b[39;49m\u001b[43mcheck_normality\u001b[49m(df, biomarker_list, grupo_col, correction_method)\n\u001b[0;32m      5\u001b[0m resultados_levene\n",
      "\u001b[1;31mAttributeError\u001b[0m: module 'advanced_boxplot_viz.utils' has no attribute 'check_normality'"
     ]
    }
   ],
   "source": [
    "grupo_col = \"nAD\"\n",
    "biomarker_list = [\"Biomarker_1\", \"Biomarker_2\", \"Biomarker_3\", \"Biomarker_4\"]\n",
    "correction_method = \"fdr_bh\"\n",
    "resultados_levene = utils.check_normality(df, biomarker_list, grupo_col, correction_method)\n",
    "resultados_levene "
   ]
  },
  {
   "cell_type": "code",
   "execution_count": null,
   "id": "ab1a1d0e",
   "metadata": {},
   "outputs": [],
   "source": []
  }
 ],
 "metadata": {
  "kernelspec": {
   "display_name": "Python 3 (ipykernel)",
   "language": "python",
   "name": "python3"
  },
  "language_info": {
   "codemirror_mode": {
    "name": "ipython",
    "version": 3
   },
   "file_extension": ".py",
   "mimetype": "text/x-python",
   "name": "python",
   "nbconvert_exporter": "python",
   "pygments_lexer": "ipython3",
   "version": "3.9.18"
  }
 },
 "nbformat": 4,
 "nbformat_minor": 5
}
